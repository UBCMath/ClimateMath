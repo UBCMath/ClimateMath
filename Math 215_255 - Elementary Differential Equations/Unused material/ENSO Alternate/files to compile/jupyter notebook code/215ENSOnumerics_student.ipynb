{
 "cells": [
  {
   "cell_type": "markdown",
   "id": "c97af5a9-6248-4bea-840f-05382e70666e",
   "metadata": {
    "jp-MarkdownHeadingCollapsed": true
   },
   "source": [
    "# ENSO assignment\n",
    "The El Nino Southern Oscilllations are an observed phenomenon in which the average tropical Eastern Pacific Sea Surface Temperature becomes much colder than usual. This oscillation can be represented in a system of two nonlinear ODE's, with the following two variables: $x$ which is proportional to the Sea Surface Temperature (SST) anomaly in the tropical Eastern\n",
    "Pacific, and $y$ which is proportional to the thermocline depth anomaly in the Western Pacific. The thermocline is the (rough) boundary between the warmer top layer of the ocean and the cooler deep ocean layer.\n",
    " "
   ]
  },
  {
   "cell_type": "markdown",
   "id": "fb5c662e-f10b-444f-9912-1318b95d39a8",
   "metadata": {},
   "source": [
    "\n",
    "# Consider the following nonlinear system of ODEs:\n",
    "\\begin{align}\n",
    "    x' & = -x + \\gamma (bx + y) - \\varepsilon (bx + y)^3 \\\\\n",
    "    y' & = -ry - \\alpha b x\n",
    "\\end{align}\n",
    "\n",
    "For this system, first find the linearization about the origin (by hand), then follow the instructions on how to use plt.streamplot and plot the linearization about the origin."
   ]
  },
  {
   "cell_type": "markdown",
   "id": "173153f8-c06a-48e9-a28e-694189266d25",
   "metadata": {},
   "source": [
    "These statements import the necessary tools to plot our equation:"
   ]
  },
  {
   "cell_type": "code",
   "execution_count": 1,
   "id": "49c68949-b215-4606-9236-193f61772a51",
   "metadata": {},
   "outputs": [],
   "source": [
    "from matplotlib.pyplot import cm\n",
    "import matplotlib.pyplot as plt\n",
    "import numpy as np\n",
    "import math"
   ]
  },
  {
   "cell_type": "markdown",
   "id": "b5a5c141-a150-474b-b96d-04e94ecefd33",
   "metadata": {},
   "source": [
    "The constants below determine the behavior of the system around the origin. Feel free to change these parameters and see what happens to the linearization."
   ]
  },
  {
   "cell_type": "code",
   "execution_count": 2,
   "id": "d01d2dff-12af-461d-b721-7f22c2d11937",
   "metadata": {},
   "outputs": [],
   "source": [
    "g = 3/4 #gamma\n",
    "b = 5/3\n",
    "e = 0.1 #epsilon\n",
    "r = 1/4\n",
    "a = 1/8 #alpha"
   ]
  },
  {
   "cell_type": "markdown",
   "id": "ac3f4762-b0d1-42df-8675-d02910147d7c",
   "metadata": {},
   "source": [
    "The following code segment sets up a meshgrid (i.e. small rectangular chunks that we can solve the equation in)\n",
    "The bounds in np.arrange describe the size of the meshgrid, or the domain over which we're solving."
   ]
  },
  {
   "cell_type": "code",
   "execution_count": 3,
   "id": "998b554e-3c1c-4c34-abc9-675618f247a9",
   "metadata": {},
   "outputs": [],
   "source": [
    "nx, ny = .1, .1\n",
    "x = np.arange(-2, 2, nx)\n",
    "y = np.arange(-2, 2, ny)\n",
    "X, Y = np.meshgrid(x, y)"
   ]
  },
  {
   "cell_type": "markdown",
   "id": "d23edd81-5ef2-4b50-9183-0bfaf979cf74",
   "metadata": {},
   "source": [
    "Next, add your linearized system below: e.g. \n",
    "\n",
    "\n",
    "dx = -x + ...\n",
    "\n",
    "dy = -r*y -..."
   ]
  },
  {
   "cell_type": "code",
   "execution_count": 4,
   "id": "8051d77f-1017-447c-acf7-cc59456eed0e",
   "metadata": {},
   "outputs": [
    {
     "ename": "SyntaxError",
     "evalue": "invalid syntax (1241527322.py, line 1)",
     "output_type": "error",
     "traceback": [
      "\u001b[0;36m  Cell \u001b[0;32mIn[4], line 1\u001b[0;36m\u001b[0m\n\u001b[0;31m    dx =\u001b[0m\n\u001b[0m         ^\u001b[0m\n\u001b[0;31mSyntaxError\u001b[0m\u001b[0;31m:\u001b[0m invalid syntax\n"
     ]
    }
   ],
   "source": [
    "dx = \n",
    "dy = "
   ]
  },
  {
   "cell_type": "markdown",
   "id": "fb7afd31-2665-4eed-a345-02787a1d6623",
   "metadata": {},
   "source": [
    "The block below plots the system for the given differential equations using different points on the meshgrid as initial conditions to computationally solve the system. This is essentially a slope field, but with more connected trajectories.\n",
    "Use the information provided [here](https://matplotlib.org/stable/api/_as_gen/matplotlib.pyplot.streamplot.html) to run the command plt.streamplot."
   ]
  },
  {
   "cell_type": "code",
   "execution_count": null,
   "id": "723957b8-b50e-4ffd-8664-2565fe28c1a8",
   "metadata": {},
   "outputs": [],
   "source": [
    "\n",
    "plt.streamplot(X,Y,dx, dy, density=2, cmap= 'jet', arrowsize=1)"
   ]
  },
  {
   "cell_type": "markdown",
   "id": "adbcb6c8-06ae-4630-8475-b39e4da333a7",
   "metadata": {},
   "source": [
    "Now add your solution to the linearized system from the written assignment to the code block below. When you run the code block, your solution will be overlaid overtop the slope field. Modify $c_1$ and $c_2$ so that the range of your solution in $x$ is approximately between -0.5 and 0.5. Because you are not required to start at a specific initial condition, you may set one of your constants to zero and only modify the other constant. Keep the parameters constant at this point onwards."
   ]
  },
  {
   "cell_type": "code",
   "execution_count": null,
   "id": "f394b290-49ad-4d5c-ad83-7e2602641661",
   "metadata": {},
   "outputs": [],
   "source": [
    "#Note: use np.cos(t) for cos(t), np.sin(t) for sin(t), and np.sqrt() to sqrt()\n",
    "# use x**2 to enter x^2\n",
    "g = 3/4 #gamma\n",
    "b = 5/3\n",
    "e = 0.1 #epsilon\n",
    "r = 1/4\n",
    "a = 1/8 #alpha\n",
    "\n",
    "c_1 = \n",
    "c_2 = \n",
    "\n",
    "w_c = #you can define omega here in terms of the other parameters if you'd like, it may make it easier to enter your solution\n",
    "\n",
    "t=np.linspace(0,50,100)\n",
    "\n",
    "def x(t):\n",
    "    return #add your function before this comment\n",
    "\n",
    "def y(t):\n",
    "    return #add your function before this comment\n",
    "\n",
    "plt.streamplot(X,Y,dx, dy, density=2, cmap= 'jet', arrowsize=1)\n",
    "plt.plot(x(t),y(t))\n"
   ]
  },
  {
   "cell_type": "markdown",
   "id": "2d6766b0-b51c-41ef-ab5f-f01c4d156206",
   "metadata": {},
   "source": [
    "\n",
    "\n",
    "The code below plots the slope field for the full non-linear system and overlays your linearized solution on top. It also plots one trajectory of the numerical solution to the non-linear equation so that you can see how well the non-linear solution aligns with your linearized solution.\n",
    "\n",
    "What you see is the existence of a stable limit cycle in the non-linear system, this means that all trajectories approach the cycle that is approximated by your linearized solution.\n",
    "\n",
    "Note: You can go back to the code box above and edit your $c_1$ and $c_2$ if you want to change the amplitude of your linearized solution so that it lines up well with the numerical solution to the non-linear system.\n",
    " "
   ]
  },
  {
   "cell_type": "code",
   "execution_count": null,
   "id": "06690f6c-dd1a-43be-b827-904bb9e5ee5c",
   "metadata": {},
   "outputs": [],
   "source": [
    "#First, find numerical solution to full non-linear system\n",
    "#Set b=5.3/3. This is because at b=5/3 the fixed point is actually stable, so we need to increase b a little to generate a limit cycle that will match with the linearized solution\n",
    "b=5.3/3\n",
    "from scipy.integrate import solve_ivp\n",
    "def thc(t,z,a,b,e,g,r):\n",
    "    x,y=z\n",
    "    return [-x + g*(b*x + y) - e*(b*x + y)**3, -r*y - a*b*x]\n",
    "\n",
    "# Here the [1,1] part of the code specifies the initial conditions. Feel free to change them\n",
    "sol = solve_ivp(thc, [0, 100], [1, 1], args=(a,b,e,g,r), max_step=0.01)\n",
    "\n",
    "#plot slopefield:\n",
    "dx = -X + g*(b*X + Y) - e*(b*X + Y)**3\n",
    "dy = -r*Y - a*b*X\n",
    "plt.streamplot(X,Y,dx, dy, density=2, cmap= 'jet', arrowsize=1)\n",
    "\n",
    "#plot numerical solution:\n",
    "plt.plot(sol.y.T[:, 0], sol.y.T[:, 1])\n",
    "\n",
    "#plot your linearized solution:\n",
    "plt.plot(x(t),y(t))\n"
   ]
  },
  {
   "cell_type": "code",
   "execution_count": null,
   "id": "96c51004-dbe4-4b2a-bf41-1bf6dab98072",
   "metadata": {},
   "outputs": [],
   "source": []
  }
 ],
 "metadata": {
  "kernelspec": {
   "display_name": "Python 3 (ipykernel)",
   "language": "python",
   "name": "python3"
  },
  "language_info": {
   "codemirror_mode": {
    "name": "ipython",
    "version": 3
   },
   "file_extension": ".py",
   "mimetype": "text/x-python",
   "name": "python",
   "nbconvert_exporter": "python",
   "pygments_lexer": "ipython3",
   "version": "3.11.9"
  }
 },
 "nbformat": 4,
 "nbformat_minor": 5
}
